{
 "cells": [
  {
   "cell_type": "markdown",
   "metadata": {
    "collapsed": true
   },
   "source": [
    "Data Science Tools and Ecosystem"
   ]
  },
  {
   "cell_type": "markdown",
   "metadata": {},
   "source": [
    "# In this notebook, Data Science Tools and Ecosystem are summarized"
   ]
  },
  {
   "cell_type": "markdown",
   "metadata": {},
   "source": [
    "**Objectives:**\n",
    " +Commonly Used Data Science Languages\n",
    " +Commonly Used Data Science Libraries\n",
    " +Evaluating Arithematic Operations\n",
    " +multiplay and then add integers\n",
    " +convert minutes to hours"
   ]
  },
  {
   "cell_type": "markdown",
   "metadata": {},
   "source": [
    "Here is a list of some of the more commonly used languages by data scientists:\n",
    "        1)Python\n",
    "        2)SQL\n",
    "        3)R\n",
    "while these 3 are the most commonly used languages, other languages include:\n",
    "        1)Julia\n",
    "        2)Java\n",
    "        3)C and C++"
   ]
  },
  {
   "cell_type": "markdown",
   "metadata": {},
   "source": [
    "Some of the commonly used libraries used by Data Scientists include:\n",
    "        1)Numpy\n",
    "        2)Panda\n",
    "        3)Matplotlib\n",
    "        4)Seaborn"
   ]
  },
  {
   "cell_type": "markdown",
   "metadata": {},
   "source": [
    "| Data Science Tools |\n",
    "|-----------|\n",
    "| Jupyter Notebook |\n",
    "| Google Colab     |\n",
    "| VS code          |"
   ]
  },
  {
   "cell_type": "markdown",
   "metadata": {},
   "source": [
    "### Below are a few examples of evaluating arithmetic expressions in Python\n",
    "    the adition operator is the + sign it used to add 2 or more integers in python\n",
    "        eg. 4+5\n",
    "            6+4\n",
    "    the subtraction operator is the - sign it is used to subtract 2 or more integers\n",
    "        eg. 6-2\n",
    "            7-4\n",
    "    the multipliaction operator is the * sign it is used to multiply 2 or more integers\n",
    "        eg. 7*7\n",
    "            9*^\n",
    "    the division operator is the / sign it is used to divide 2 or more integers\n",
    "        eg. 6/2\n",
    "            64/4"
   ]
  },
  {
   "cell_type": "code",
   "execution_count": 4,
   "metadata": {},
   "outputs": [
    {
     "name": "stdout",
     "output_type": "stream",
     "text": [
      "the answer to the given equation is 17\n"
     ]
    }
   ],
   "source": [
    "#This a simple arithmetic expression to mutiply then add integers\n",
    "answer= (3*4)+5\n",
    "print(\"the answer to the given equation is\",answer)"
   ]
  },
  {
   "cell_type": "code",
   "execution_count": 5,
   "metadata": {},
   "outputs": [
    {
     "name": "stdout",
     "output_type": "stream",
     "text": [
      "200 minutes = 3.3333333333333335 hours\n"
     ]
    }
   ],
   "source": [
    "#This will convert 200 minutes to hours\n",
    "minutes=200\n",
    "hours=minutes/60\n",
    "print(\"200 minutes =\",hours,\"hours\")"
   ]
  },
  {
   "cell_type": "markdown",
   "metadata": {},
   "source": [
    "## Author \n",
    "Nikunj Bansal"
   ]
  },
  {
   "cell_type": "code",
   "execution_count": null,
   "metadata": {},
   "outputs": [],
   "source": []
  }
 ],
 "metadata": {
  "kernelspec": {
   "display_name": "Python 3.10",
   "language": "python",
   "name": "python3"
  },
  "language_info": {
   "codemirror_mode": {
    "name": "ipython",
    "version": 3
   },
   "file_extension": ".py",
   "mimetype": "text/x-python",
   "name": "python",
   "nbconvert_exporter": "python",
   "pygments_lexer": "ipython3",
   "version": "3.10.14"
  }
 },
 "nbformat": 4,
 "nbformat_minor": 1
}
